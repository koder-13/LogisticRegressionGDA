{
 "cells": [
  {
   "cell_type": "code",
   "execution_count": 1,
   "metadata": {},
   "outputs": [],
   "source": [
    "#Import modules used for various functions\n",
    "import pandas as pd\n",
    "import numpy as np\n",
    "import matplotlib.pyplot as plt\n",
    "import warnings\n",
    "import math\n",
    "warnings.filterwarnings(\"ignore\")"
   ]
  },
  {
   "cell_type": "code",
   "execution_count": 2,
   "metadata": {},
   "outputs": [],
   "source": [
    "class GaussianAnalysis:\n",
    "    \n",
    "    def __init__(self, x, y, tx, ty):      \n",
    "        self.x = x\n",
    "        self.y = y\n",
    "        self.phi = None\n",
    "        self.u0 = None\n",
    "        self.u1 = None\n",
    "        self.sigma = None\n",
    "        self.thetaT = None\n",
    "        self.theta0 = None\n",
    "        self.tx = tx\n",
    "        self.ty = ty\n",
    "    \n",
    "    #To find phi parameter\n",
    "    def find_phi(self):\n",
    "        self.phi = np.mean(self.y)\n",
    "    \n",
    "    #To find mean parameters - u0 and u1\n",
    "    def mew(self, n):\n",
    "        \n",
    "        mew_n = np.zeros([1, 2], float)\n",
    "        den = 0\n",
    "        for i in range(self.y.shape[0]):\n",
    "            if self.y[i] == n:\n",
    "                mew_n += self.x[i]\n",
    "                den += 1\n",
    "        return (mew_n / den).T\n",
    "    \n",
    "    #To find covariance\n",
    "    def find_sigma(self):\n",
    "        \n",
    "        sigma = np.zeros((2, 2))\n",
    "        for i in range(self.y.shape[0]):\n",
    "            col = np.reshape(self.x[i,:], (self.x.shape[1], 1))\n",
    "            if self.y[i] == 1:\n",
    "                sigma += np.dot((col - self.u0), (col - self.u0).T)\n",
    "            else:\n",
    "                sigma += np.dot((col - self.u1), (col - self.u1).T)\n",
    "        sigma /= self.y.shape[0]\n",
    "        return sigma\n",
    "    \n",
    "    #To find theta parameters of the equivalent sigmoid using the formulae found\n",
    "    def find_parameters(self):\n",
    "        \n",
    "        diff_u = self.u1 - self.u0\n",
    "        sigma_inv = np.linalg.inv(self.sigma)\n",
    "        self.thetaT = np.dot(sigma_inv, diff_u)\n",
    "        phi_fact = self.phi/(1 - self.phi)\n",
    "        const_fact = math.log(phi_fact)\n",
    "        M1 = np.dot(sigma_inv, self.u0)\n",
    "        M2 = np.dot(sigma_inv, self.u1)\n",
    "        self.theta0 = (np.dot(self.u0.T, M1) - np.dot(self.u1.T, M2))*0.5 + const_fact\n",
    "        \n",
    "    #To compute sigmoid\n",
    "    def sigmoid(self, z):\n",
    "        return 1 / (1 + np.exp(-z))\n",
    "       \n",
    "    #Using the final value of Gaussian distribution analysis parameters and returning the expected output\n",
    "    def GDA_calculation(self, x, y):\n",
    "        \n",
    "        predicted = []\n",
    "        for i in range(y.shape[0]):\n",
    "            x_i = np.reshape(x[i,:], (x.shape[1], 1))\n",
    "            parameter = np.dot((self.thetaT).T, x_i) + self.theta0\n",
    "            prob = self.sigmoid(parameter)\n",
    "            if prob >= 0.5:\n",
    "                predicted.append(1)\n",
    "            else:\n",
    "                predicted.append(0)\n",
    "        return predicted\n",
    "            \n",
    "    #Calculating TP, TN, FP, FN and finding accuracy\n",
    "    def accuracy(self, predicted, expected):\n",
    "        TP= TN= FP= FN = 0\n",
    "        for i in range(expected.shape[0]):\n",
    "            if predicted[i]== 1:\n",
    "                if expected[i] == 1:\n",
    "                    TP+=1\n",
    "                else:\n",
    "                    FP+=1\n",
    "            else:\n",
    "                if expected[i] == 0:\n",
    "                    TN+=1\n",
    "                else:\n",
    "                    FN+=1\n",
    "        accuracy = (TP+TN)/(TP+TN+FP+FN)\n",
    "        return accuracy"
   ]
  },
  {
   "cell_type": "code",
   "execution_count": 3,
   "metadata": {},
   "outputs": [],
   "source": [
    "class dataPrepare(GaussianAnalysis):\n",
    "    \n",
    "    #Prepare the data set values:\n",
    "    def __init__(self, train, test):\n",
    "        \n",
    "        #Features(x) and Target(y) from training data set\n",
    "        x = np.array(train[['x_1', 'x_2']], dtype=float)\n",
    "        y = np.array(train[['y']], dtype=float)\n",
    "        \n",
    "        #Features(tx) and Target(ty) from test data set\n",
    "        tx = np.array(test[['x_1', 'x_2']], dtype=float)\n",
    "        ty = np.array(test[['y']], dtype=float)\n",
    "        \n",
    "        super().__init__(x, y, tx, ty)\n",
    "    \n",
    "    def callFunctions(self):\n",
    "        \n",
    "        self.find_phi()\n",
    "        self.u0 = self.mew(0)\n",
    "        self.u1 = self.mew(1)\n",
    "        self.sigma = self.find_sigma()\n",
    "        self.find_parameters()\n",
    "        predicted = self.GDA_calculation(self.x, self.y)\n",
    "        trainingAccuracy = self.accuracy(predicted, self.y)\n",
    "        print('Accuracy of model over training set = ', trainingAccuracy*100,\"%\")\n",
    "        \n",
    "        predicted = self.GDA_calculation(self.tx, self.ty)\n",
    "        testAccuracy = self.accuracy(predicted, self.ty)\n",
    "        print('Accuracy of model over test set = ', testAccuracy*100,\"%\")"
   ]
  },
  {
   "cell_type": "code",
   "execution_count": 4,
   "metadata": {},
   "outputs": [
    {
     "name": "stdout",
     "output_type": "stream",
     "text": [
      "Accuracy of model over training set =  86.625 %\n",
      "Accuracy of model over test set =  83.0 %\n"
     ]
    }
   ],
   "source": [
    "#DATA SET 1\n",
    "\n",
    "train1 = pd.read_csv(\"ds1_train.csv\")\n",
    "test1 = pd.read_csv(\"ds1_test.csv\")\n",
    "\n",
    "gda1 = dataPrepare(train1, test1)\n",
    "gda1.callFunctions()"
   ]
  },
  {
   "cell_type": "code",
   "execution_count": 5,
   "metadata": {},
   "outputs": [
    {
     "name": "stdout",
     "output_type": "stream",
     "text": [
      "Accuracy of model over training set =  91.375 %\n",
      "Accuracy of model over test set =  91.0 %\n"
     ]
    }
   ],
   "source": [
    "#DATA SET 2\n",
    "\n",
    "train2 = pd.read_csv(\"ds2_train.csv\")\n",
    "test2 = pd.read_csv(\"ds2_test.csv\")\n",
    "\n",
    "gda2 = dataPrepare(train2, test2)\n",
    "gda2.callFunctions()"
   ]
  }
 ],
 "metadata": {
  "kernelspec": {
   "display_name": "Python 3",
   "language": "python",
   "name": "python3"
  },
  "language_info": {
   "codemirror_mode": {
    "name": "ipython",
    "version": 3
   },
   "file_extension": ".py",
   "mimetype": "text/x-python",
   "name": "python",
   "nbconvert_exporter": "python",
   "pygments_lexer": "ipython3",
   "version": "3.8.5"
  }
 },
 "nbformat": 4,
 "nbformat_minor": 4
}
